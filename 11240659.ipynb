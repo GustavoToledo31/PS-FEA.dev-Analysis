{
 "cells": [
  {
   "cell_type": "markdown",
   "metadata": {},
   "source": [
    "<div align='center'><a href='https://www.facebook.com/fea.dev/'/ style='display:inline-block'><img src=\"data:image/png;base64,iVBORw0KGgoAAAANSUhEUgAAASwAAACoCAMAAABt9SM9AAAA51BMVEX////35gcAAAAICCjFuCn8/P0AAB4AACby8vPZ2dwAABBqanPk5Oapqa8PDyoAABOcnKEAABkAACN4eIDAsgAAACAAAAsvL0AAABavr7QAABEAABuOjpWHh459fYbq6uzKys5JSVZUVGCXl53BwcViYmzy79fs6MQqKjy2trr46UL674P+/e/57GL9+Mr9+tb+/Or89bH+++D57nTl4K/QxWIfHzTNwlU6Okn786L46krLv0jIvDvo5Ln35yT89bT57Gn898D78ZD6737h26Hb04rQxmDXznwiIjUXFy768ZgrKz7i3KNihZpNAAAIBUlEQVR4nO2abUObOhSAQ7AF2mIpbekLpdCWqnXV1W7W6pzTzW26u///e24gvKawIXOC957ni0IJhMeT5ORUhAAAAAAAAAAAAAAAAAAAAAAAAAAAAAAAAAAAAAAAAAAAAAAAAAAgYHlWdA9eDet3N8ui+/BK+HTMHRfdh9fB+g3HcVdF9+JVQIKKcFJ0N14Bq8+cy23RHSk/d1dUFfel6J6UHT+oCJ+L7kvJuTsJVHE/iu5MqVn+4CJcFt2dMnN6ElXFQd6eyvLyJqaKuyu6R6Xl9JZjOC26S2WFDSrC26L7VE7evtsxxXHrontVRpZnxwmqwFUCiUHFcTerojtWPpKDiriC8hXD+kuyKQ7KVyyfUoIKXO3wOdXUf7fUV5Hk+TxPw1+4un3mPpYDe7xt4WF/mqPpXbqrd8/ez99izRTCwEHxmSmoMQpOy8F5g2nbmGA7yzMWPazzfDePrOR8weFNjrv9KXYP435T03DAsInbyJyQ0/1a5LTWrAlM2/FQzzi0xHmXr9ZzdC/VVUGlPnNM/uzVettjvBGGMjktyk0nGsb+6YnKvm0F8zyuZHvIqJ9L1ts0V78qXy0P3r9/+qMyIjkvbQaHRgtLzs8KkVUbBKdt3Ffi7QYaz2sDlImcsn6kuEorXy0P779fd74dPP1JWXFlNYJDC2ui87PSFfiaHJwWMbbi7Xpq9okop6yUFOtTwqUH779e7HUIf1PVjiwRP7o/K/sxWWgSiT7ajNjksZjpGflkrZJdMeWr1eH9uaNpj9A5/6uqdmShLZ21WVkGjjdrN+c9gR/KKAv5ZJ0lugrLV2R2+n7R8Ty9hKpdWQp9f1aW1Y61EpvYNnRe3WZ6Rj5ZJ+muVh/vz69DTa6qvzsAKawsD1YWg6xhMr0ltkwgn6wkV2u0+vn9w17c00upyiur1x8jtBH4/izLM2Z5ZJ0muFqhQ1aTq+riRVTllGVhJ8EwWrza+/XdRcmyLFNhZTVs27Z+szi82VF1s0Tvi1TFyKpYfpoZk2UexZdCVO/3/KZS+q2t9gPN/928NzhdUY7o6Tlpa+KHnsNRl26nWpsj72Dnqwni6ueuqxdUxciyglwgJmvAhJ6I6UdHKt9it4wBZO+oa3g7r08fh1FZ0qOmHY0G8nZYxeQu1rilqqo+H9C/hzTbdrWpbKI16+oKoa87rl5UFSNrjBMjq83IUmpUKpm4hU3KfRe4q2KFuo/OWRJWNbqy1ls8XiBEFworaDhvupde7rr6zrrqfDj8gzfPQWy7s9mPyiJZlGgSGl0tPr/w3hZair9mFBsL6sZvpTQDWSIW/Ly/ogmC+8chm4FqsCcXNTqyr+KuThA6Z1fAl1ZFX7g1UoyxYRj1ZkwW75cdhLgsMr17xRkyDvU2SkCMLRsRWdNueL5epcE7qEX25DKmuVvc1S1C3zpFq6KyeL8SI8Rkqb1J74iwYSJrrj96v5HxJehJd63r0dkslEWe1p34p0lr98ApYAR78q07NJm63xeELjqFq6KyhrLtVvpmWkxWUHV4jG0MTRxkV6YTQAklwHhgRWS19UhqJtc81eSs6ilsYCo/Vvf7jNB1TNV1IaqYOethP8MEP2tW62OKofKR6SZkofHCY3gYyiJ5rBbIdYafG7ORPowwDcioqx9oWQpVzGpoJK+Gi5isR6EVFlb5xBIgCZVwtEVkOZHI1/zGNZIzUEdb1Q84ry/Rut8lWnVKoSpbnmW2I3OWjfvGIMApAS52bjrp8t1IwAWynIepvSgbV5bsR6KF6VIZ+Q7sDB10Iqo+PuO7P5n4dieYm9K3O9NqtFrjaNktAZJkIFGWnZLzi02B5iBzbwYM6353ZDtYElVP3xuaOJYsyLWkEuA2RZaVsiA4q6dzRQXvu4dh3e8UfQzqVXsFq3q6rFE/FhrOLLR7HZGlJs1ZUuLV9AMnmZPxyD0M6n5vg61zZ+/vfQ+RmcyyRnSZ6nbjhQaSZUa9BCeFajjvhxO8xqcUa4jemoIevJ74db81uu+UJaocssoSsbtcLTATGc4Uz9Tn3U1jdB8Upg4k5RfUpC/QyHBWt5I3vfuJw8rbOpciqhyyypph92jSZWYokchqMl+TuTeNTFqhLMdijb2a3kbgq1NvPqN1v5sV3TqXRlVmWRXVzRBMvLP2OePQL8Ur0zmd0EgERWbyUJabaCXWwMhGke9q9He37nezdLfOJVKVWsGr1OJTsay5727oGruYudtgeoMZ7lbpkLRcKZZ3CYknP84U8oGAE2LLcjf09Hen7nfsbgc7ez/zv9rzkyZr6GwZUcXnQXAuamBhJ09o4ODb1g2JJ40abmuOrbrdMCV566ai3uVzN4lvtgeWJEnWYBTch4SyF+FrWr760CmZqobifLMsbAwrNuuaA5JskqlYb/moxKg0UgXiZRGdzkWbDEOe708WROI/alg+qGOBrHzutmYjE0H6RKGZvoGdW1e9TU84qGd9f1W9dMpXy7JFFRk3AdGKp4WTmAe/hVeKkc8lkibp/SDy5Bpu6dUW7isVEk462U96yaw0xVpL18mleG6FtzIx9jxfcbdo2emUSxUZbGLIzml2ha8kXRq5Abl+UB+HYVexjXbboFOcUjfs8H7mgnzSntnxEb3wo5t7R7aD98/wev8Dzr6gw69Fd+K1cIcQ/H87AAAAAAAAAAAAAAAAAAAAAAAAAAAAAAAAAAAAAAAAAAAAAAAAAAAAAAAAAAAAAAAAAAAAAAAAAAAAALwu/gXcFKZ821M5DQAAAABJRU5ErkJggg==\" height=\"100%\" width=\"450\" ><a/><div/>"
   ]
  },
  {
   "cell_type": "markdown",
   "metadata": {},
   "source": [
    "# <font color=blue|blue|red>Jupyter Notebook</font> \n",
    "### 1) O que é o Jupyter Notebook?\n",
    "O Jupyter Notebook é um documento que permite você executar códigos em Python e escrever textos como um word, tudo em um mesmo lugar.\n",
    "\n",
    "### 2) Como eu faço para rodar o código?\n",
    "Para rodar uma célula basta clicar na célula e pressionar **Shift + Enter**. Você também pode rodar uma célula ou mais de uma pelo menu de opções na aba \"Cell\". A células são os retângulos, que podem conter um código em Python ou um texto escrito.\n",
    "\n",
    "Caso você clique nos textos e a formatação dele fique estranha basta rodar essa célula para corrigir.\n",
    "\n",
    "\n",
    "### 3) Porquê eu posso obter diferentes resultados toda vez que eu rodo a mesma célula?\n",
    "Quando você roda uma célula isso atualiza alguma variável (ex, x = x+1), assim você terá resultados diferentes para x enquanto você rodar várias vezes essa célula.\n",
    "\n",
    "### 4) Estou travado em algum exercício, o que eu faço?\n",
    "Nós recomendamos que você busque alguem do FEA.dev ou busque informações no Google ou no Stack Overflow. \n",
    "\n",
    "### 5) Como eu salvo o meu progresso?\n",
    "Clique em \"File\" na barra de opções e por fim clique na opção \"Save and Checkpoint\"\n",
    "\n",
    "### 6) O que devo fazer se o meu Jupyter travar?\n",
    "Caso isso aconteça você pode tentar reiniciar o Kernel clicando em \"Kernel\" na barra de opções, e por fim selecionando a opção \"Restart\"\n",
    "\n",
    "Caso queira as informações em vídeo recomendamos o seguinte vídeo: https://www.youtube.com/watch?v=m0FbNlhNyQ8\n",
    "\n",
    "### 7) Como crio novas células (linhas de código)?\n",
    "Clique no sinal de `+` na barra de opções. Você pode arrastar essa célula para cima ou para baixo e também deixa-la como formato de texto (markdown) ou em código (code), faça isso pela barra de opções.  \n",
    "**Importante: Não altere as células dos enunciados**\n",
    "\n",
    "### 8) Ainda estou com dúvidas sobre o Jupyter.\n",
    "Caso isso ocorra pode nos chamar ou se preferir pode assistir o seguinte vídeo: https://www.youtube.com/watch?v=HbsnAGFS1qk"
   ]
  },
  {
   "cell_type": "markdown",
   "metadata": {},
   "source": [
    "# <font color=blue|blue|red>Python Case Avançado</font>\n",
    "\n",
    "Seja muitíssmo bem vindo ao **Case Avançado** do nosso querido processo seletivo!!!\n",
    "\n",
    "Se escolheu esse case, você provavelmente já tem alguma familiaridade com programação. Não se assuste com o termo \"avançado\", temos certeza que é você é capaz de resolvê-lo! **O objetivo principal desse case é avaliar o progresso do seu conhecimento em programação com base nas respotas dos exercícios e das informações que você no passou no forms de inscrição.** Por isso, não se preocupe caso não consiga resolver tudo!\n",
    "\n",
    "### <font color=green|black>**Material de Estudo Base:** </font>\n",
    "Recomendamos como material de estudos os videos de nosso canal no YT: https://www.youtube.com/fea-dev\n",
    "\n",
    "Como é apenas uma sugestão, <ins>**_você está livre para pesquisar sobre Python em qualquer fonte_**</ins>: Google, Youtube, FEA.dev, Stack Overflow, etc.\n",
    "\n",
    "Recomendamos fortemente que você **guarde os links** de onde adquiriu seu conhecimento e coloque na sessão fontes ao final deste notebook, para podermos melhor avaliar seu progresso!\n",
    "\n",
    "### <font color=green|black>**Tenho Dúvidas!** </font>\n",
    "Caso tenha dúvidas sobre os exercício ou qualquer outra dúvida <ins>**_sinta-se livre para chamar qualquer um dos nossos membros pelo WhatsApp_**</ins>. Nós não vamos descontar nenhum ponto por você ter nos chamado, por isso não fique com vergonha. Rode a célula abaixo e entre em contato com um de nossos monitores:\n"
   ]
  },
  {
   "cell_type": "code",
   "execution_count": 1,
   "metadata": {},
   "outputs": [
    {
     "name": "stdout",
     "output_type": "stream",
     "text": [
      "Seu monitor: Diego Lottermann - +55 (11) 98913-4357\n"
     ]
    }
   ],
   "source": [
    "import numpy as np\n",
    "lista_contatos = ['Diego Lottermann - +55 (11) 98913-4357', 'Nicolas Da Hora - +55 (11) 96473-5641', 'Guilherme Theo - +55 (12) 99752-1503', 'Felipe Manzi - +55 (11) 997832701']\n",
    "\n",
    "print(f'Seu monitor: {np.random.choice(lista_contatos)}')"
   ]
  },
  {
   "cell_type": "markdown",
   "metadata": {},
   "source": [
    "### <font color=green|black>**Instruções para o Case:** </font>\n",
    "- Você deve escrever a resposta de cada exercício entre os delimitadores <font color=pink|black|black>*#####SEU CODIGO COMECA AQUI#####*</font> e <font color=pink|black|black>*#####SEU CODIGO TERMINA AQUI#####*</font>.\n",
    "- Nos ordenamos os exercícios de forma que a dificuldade seja crescente, portanto recomendamos que sigam a ordem deles.\n",
    "- Todos os resultados de cada exercício deverão ser printados/mostrados/plotados na tela\n",
    "- O case possui uma problemática e 5 macrotópicos que servirão como um norte\n",
    "- A proposta de intervenção no final é **obrigatória!!!**\n",
    "- Você deve fazer até onde você for capaz. Por isso não se preocupe caso não tenha conseguido fazer tudo.\n",
    "- No final do jupyter notebook tem uma parte para você colocar todas as fontes que você usou para estudar e para fazer os exercícios. Lembrando que a quantidade e nem a qualidade das fontes serão avaliadas. \n",
    "- Todo código que você escrever deverá ser comentado, seja na própria célula de código ou criando novas células de texto (Markdown), veja o exemplo a baixo\n"
   ]
  },
  {
   "cell_type": "code",
   "execution_count": 134,
   "metadata": {},
   "outputs": [
    {
     "name": "stdout",
     "output_type": "stream",
     "text": [
      "20\n"
     ]
    }
   ],
   "source": [
    "\"\"\"Neste exercício você deverá criar duas variáveis com os valores de 10 e 12 e soma-las \"\"\"\n",
    "\n",
    "#####SEU CODIGO COMECA AQUI#####\n",
    "# VARIAVEL COM O NUMERO 10\n",
    "x = 10\n",
    "\n",
    "# VARIAVEL COM O NUMERO 12\n",
    "y = 10\n",
    "\n",
    "# SOMA DAS VARIÁVEIS \"x\" E \"y\"\n",
    "total = x + y\n",
    "\n",
    "print(total)"
   ]
  },
  {
   "cell_type": "markdown",
   "metadata": {},
   "source": [
    "### BOA SORTE!!!!\n",
    "\n",
    "<img src='https://starecat.com/content/wp-content/uploads/my-code-dog-standing-on-cans-indian-guys-on-youtube-stack-overflow-luck-online-forums-from-2008.jpg' height=\"100%\" width=\"350\" style=\"margin-left: auto;margin-right: auto\">"
   ]
  },
  {
   "cell_type": "markdown",
   "metadata": {},
   "source": [
    "# <font color=blue|blue|red>Sua Quest Principal </font>\n",
    "\n",
    "\n",
    " \"*Hackers invadiram a sede do FEA.dev e bagunçaram todos os bancos de dados de nossos servidores!!! Eles estavam tentando nos derrubar, mas felizmente você é o membro mais experiente do grupo e se prontificou para combater essa ameaça. Os dados precisam ser importados, limpados e estudados por meio das inúmeras ferramentas que o Python oferece (gráficos, tabelas, etc.).*  \n",
    "\n",
    "*O dataset que você trabalhará é o da pesquisa de ambiente realizada em 2019 pela entidade, onde coletamos várias informações sobre os interesses dos alunos **feanos** no que tange à programação. Além disso, movido por um sentimento de vingança dos hackers, você decidiu estudar o dataset e tirar algum insight para fazer uma proposta de intervenção que o FEA.dev poderia tomar para disseminar ainda mais conhecimento de programação no mundo dos negócios.*\"\n",
    "\n",
    "\n",
    "<img src=\"https://media.giphy.com/media/eCqFYAVjjDksg/giphy.gif\" height=\"100%\" width=\"500\" style=\"margin-left: auto;margin-right: auto\">\n",
    "\n",
    "\n",
    "<font color=green|black>**Sobre o dataset:** </font>\n",
    "\n",
    "- Os dados que você trabalhará foram extraídos de uma pesquisa de ambiente que o FEA.dev fez em 2019, simplificamos algumas coisas para facilitar a análise. Nele coletamos diversos dados demográficos dos estudantes, também fizemos diversas perguntas sobre temas de programação que os alunos conheciam e que gostariam de aprender. O arquivo contendo essas informações é o \"pesquisa_ambiente.csv\" que está na mesma pasta deste notebook. Cada coluna se refere à uma pergunta que fizemos, sendo que algumas perguntas eram de múltipla escolha.\n",
    "\n",
    "- Descrição de cada coluna do dataset:\n",
    "    - **curso**: curso do aluno (dentre os cursos da FEA)\n",
    "    - **periodo**: periodo das aulas do aluno (dia ou noite)\n",
    "    - **ano**: em que ano o aluno está na graduação\n",
    "    - **sexo**: sexo do aluno\n",
    "    - **tema_conhece**: tema de programação mais avançado que o aluno conhece, segundo a ordem: Nenhum < Lógica de Programação < Banco de Dados < Programação Orientada a Objetos < Data Science < Machine Learning. Ou seja, se ele sabe sabe banco de dados, infere-se que ele também saiba Lógica de Programação.\n",
    "    - **interesse_programacao**: se a pessoa tem interesse ou não em aprender programação\n",
    "    - **motivo_interesse**: motivo pelo qual ela tem esse interesse\n",
    "    - **area_mercado**: em qual área do mercado ela gostaria de trabalhar\n",
    "    - **tema_aprender**: tema de programação que o aluno quer aprender\n",
    "    - **linguagem_aprender**: linguagem de programação que o aluno quer aprender\n",
    "    - **forma_aprender**: forma pela qual o aluno gostaria de aprender\n",
    "    \n",
    "\n",
    "<font color=green|black>**Você decidiu seguir o seguinte plano:** </font>\n",
    "\n",
    "0. Setup do código\n",
    "1. Importação do conjunto de dados (dataset)\n",
    "2. Análise inicial\n",
    "3. Gráficos iniciais básicos + Limpeza dos dados\n",
    "4. Gráficos mais robustos\n",
    "5. Análise critica e proposta de intervenção (OBRIGATÓRIO)"
   ]
  },
  {
   "cell_type": "markdown",
   "metadata": {},
   "source": [
    "## 0. Setup\n",
    "\n",
    "Reserve a célula abaixo para importar todas as bibliotecas que você usará, comentando no código brevemente o que cada uma faz. Recomendamos: pandas, numpy, matplotlib e seaborn. Case queira, você pode usar bibliotecas além dessas, desde que deixe claro a versão que estará usando dela."
   ]
  },
  {
   "cell_type": "code",
   "execution_count": 135,
   "metadata": {},
   "outputs": [],
   "source": [
    "#####SEU CODIGO COMECA AQUI#####\n",
    "#Imports\n",
    "\"\"\"\n",
    "Pandas: é uma biblioteca Python de código aberto (open source), o que permite a qualquer pessoa acessá-la. Entre suas funcionalidades\n",
    "exalta-se a criação de estruturas de fácil utilização (DataFrames, Series) e ferramentas para análise de dados, abordando desde\n",
    "a manipulação desses até a própria plotagem (porém é recomendado utilizar outras bibliotecas para plotar, como o Matplotlib ou \n",
    "o Seaborn)\n",
    "\"\"\"\n",
    "import pandas as pd\n",
    "\"\"\"\n",
    "Numpy: é uma biblioteca Python de código aberto, a qual é usada principalmente para realizar cálculos em Arrays Multidimensionais.\n",
    "Dessa forma, há uma coleção de funções matemáticas programadas para realizar cálculos em tais Arrays.\n",
    "\"\"\"\n",
    "import numpy as np\n",
    "\"\"\"\n",
    "Matplotlib: é uma biblioteca para a criação de gráficos no python, sendo assim, utilizada para a visualização de dados em geral\n",
    "\"\"\"\n",
    "import matplotlib.pyplot as plt\n",
    "\"\"\"\n",
    "Seaborn: é uma biblioteca para visualização de dados baseada em Matplotlib. Ela é utilizada para criar gráficos estatísticos mais \n",
    "informativos e atrativos do que o Matplotlib. Além disso, a biblioteca é mais fácil de se usar por trabalhar com comandos mais simples.\n",
    "\"\"\"\n",
    "import seaborn as sns\n",
    "%matplotlib inline"
   ]
  },
  {
   "cell_type": "markdown",
   "metadata": {},
   "source": [
    "## 1. Importação do conjunto de dados (dataset)\n",
    "\n",
    "Na célula abaixo, importe seus dados e atribua-os à uma variável."
   ]
  },
  {
   "cell_type": "code",
   "execution_count": 136,
   "metadata": {},
   "outputs": [],
   "source": [
    "#####SEU CODIGO COMECA AQUI#####\n",
    "# Utilizando a biblioteca pandas, importarei o arquivo \"pesquisa_ambiente.csv\" e armazenarei na variável \"df\"\n",
    "df = pd.read_csv('pesquisa_ambiente.csv')"
   ]
  },
  {
   "cell_type": "markdown",
   "metadata": {},
   "source": [
    "## 2. Análise Inicial\n",
    "\n",
    "Nessa parte, procure coletar alguns dados iniciais do seu dataset para ajudar no problema, recomendamos pelo menos as seguintes:\n",
    "- Ver as primeiras linhas do dataset \n",
    "- Número de linhas e colunas do dataset\n",
    "- Quais são as colunas do dataset\n",
    "- Tipo de dado de cada coluna (float, object, etc)\n",
    "    - OBS: object - normalmente são strings\n",
    "- Ver algumas medidas de posição das variáveis, como: média, moda, etc.\n",
    "- Número de dados faltantes (NaN)\n",
    "- Abusar da criatividade!\n",
    "\n",
    "- Tente também responder: Essa amostra de pessoas pode ser usada para generalizar toda a população feana? Ou seja, é uma amostra probabilística? Você pode usar informações externas.\n",
    "\n",
    "**As bibliotecas que recomendamos já possuem inúmeras funções que conseguem fazer cada coisa que pedimos em uma linha de código cada, abuse do Google!**\n",
    "\n",
    "Além disso, por ser algo mais livre, você poderá criar células de código e de markdown (para explicar seu raciocínio), desde que elas estejam entre os delimitadores. Já criamos uma célula abaixo, sinta-se livre para criar mais.\n",
    "\n",
    "\n",
    "<font color=pink|black|black>*#####SEU CODIGO COMECA AQUI#####*</font>"
   ]
  },
  {
   "cell_type": "code",
   "execution_count": 137,
   "metadata": {
    "scrolled": true
   },
   "outputs": [
    {
     "name": "stdout",
     "output_type": "stream",
     "text": [
      "<class 'pandas.core.frame.DataFrame'>\n",
      "RangeIndex: 308 entries, 0 to 307\n",
      "Data columns (total 11 columns):\n",
      " #   Column                 Non-Null Count  Dtype \n",
      "---  ------                 --------------  ----- \n",
      " 0   curso                  308 non-null    object\n",
      " 1   periodo                308 non-null    object\n",
      " 2   ano                    308 non-null    object\n",
      " 3   sexo                   308 non-null    object\n",
      " 4   tema_conhece           308 non-null    object\n",
      " 5   interesse_programacao  308 non-null    object\n",
      " 6   motivo_interesse       303 non-null    object\n",
      " 7   area_mercado           291 non-null    object\n",
      " 8   tema_aprender          303 non-null    object\n",
      " 9   linguagem_aprender     303 non-null    object\n",
      " 10  forma_aprender         303 non-null    object\n",
      "dtypes: object(11)\n",
      "memory usage: 26.6+ KB\n"
     ]
    },
    {
     "data": {
      "text/plain": [
       "'\\nPor meio dessa análise, foi possível extrair que o arquivo gerou um DataFrame de 11 colunas e 308 linhas\\nAs colunas são: curso, periodo, ano, sexo, tema_conhece, interesse_programação, motivo_interesse, area_mercado, tema_aprender, linguagem_aprender e forma_aprender\\nO tipo dos dados dessas colunas são todos object (string)\\n\\n'"
      ]
     },
     "execution_count": 137,
     "metadata": {},
     "output_type": "execute_result"
    }
   ],
   "source": [
    "# Inicialmente, chamarei a função \"info()\" do pandas para análisar quais são as colunas, qual o tipo de dado de cada uma e a quantidade presente nesse Dataframe.\n",
    "df.info()\n",
    "\"\"\"\n",
    "Por meio dessa análise, foi possível extrair que o arquivo gerou um DataFrame de 11 colunas e 308 linhas\n",
    "As colunas são: curso, periodo, ano, sexo, tema_conhece, interesse_programação, motivo_interesse, area_mercado, tema_aprender, linguagem_aprender e forma_aprender\n",
    "O tipo dos dados dessas colunas são todos object (string)\n",
    "\n",
    "\"\"\""
   ]
  },
  {
   "cell_type": "code",
   "execution_count": 138,
   "metadata": {},
   "outputs": [
    {
     "data": {
      "text/html": [
       "<div>\n",
       "<style scoped>\n",
       "    .dataframe tbody tr th:only-of-type {\n",
       "        vertical-align: middle;\n",
       "    }\n",
       "\n",
       "    .dataframe tbody tr th {\n",
       "        vertical-align: top;\n",
       "    }\n",
       "\n",
       "    .dataframe thead th {\n",
       "        text-align: right;\n",
       "    }\n",
       "</style>\n",
       "<table border=\"1\" class=\"dataframe\">\n",
       "  <thead>\n",
       "    <tr style=\"text-align: right;\">\n",
       "      <th></th>\n",
       "      <th>curso</th>\n",
       "      <th>periodo</th>\n",
       "      <th>ano</th>\n",
       "      <th>sexo</th>\n",
       "      <th>tema_conhece</th>\n",
       "      <th>interesse_programacao</th>\n",
       "      <th>motivo_interesse</th>\n",
       "      <th>area_mercado</th>\n",
       "      <th>tema_aprender</th>\n",
       "      <th>linguagem_aprender</th>\n",
       "      <th>forma_aprender</th>\n",
       "    </tr>\n",
       "  </thead>\n",
       "  <tbody>\n",
       "    <tr>\n",
       "      <th>0</th>\n",
       "      <td>Economia</td>\n",
       "      <td>diu</td>\n",
       "      <td>2º km/s^2</td>\n",
       "      <td>Feminino</td>\n",
       "      <td>Nenhum</td>\n",
       "      <td>Sim</td>\n",
       "      <td>Mercado de Trabalho, Pesquisa Acadêmica, Curio...</td>\n",
       "      <td>Automatização de processos, Análise de dados, ...</td>\n",
       "      <td>Introdução à Lógica de Programação, Data Scien...</td>\n",
       "      <td>VBA, Excel, Python, R, C++, Java</td>\n",
       "      <td>Aula presencial, Materiais Didáticos</td>\n",
       "    </tr>\n",
       "    <tr>\n",
       "      <th>1</th>\n",
       "      <td>Economia</td>\n",
       "      <td>diu</td>\n",
       "      <td>2º km/s^2</td>\n",
       "      <td>Masculino</td>\n",
       "      <td>Nenhum</td>\n",
       "      <td>Sim</td>\n",
       "      <td>Mercado de Trabalho, Pesquisa Acadêmica</td>\n",
       "      <td>Análise de dados, Pesquisa econômica</td>\n",
       "      <td>Introdução à Lógica de Programação, Data Scien...</td>\n",
       "      <td>VBA, Excel, Python, R</td>\n",
       "      <td>Aula presencial, Materiais Didáticos</td>\n",
       "    </tr>\n",
       "    <tr>\n",
       "      <th>2</th>\n",
       "      <td>Economia</td>\n",
       "      <td>diu</td>\n",
       "      <td>1º km/s^2</td>\n",
       "      <td>Masculino</td>\n",
       "      <td>Nenhum</td>\n",
       "      <td>Sim</td>\n",
       "      <td>Mercado de Trabalho, Curiosidade</td>\n",
       "      <td>Finanças</td>\n",
       "      <td>Introdução à Lógica de Programação, Programaçã...</td>\n",
       "      <td>VBA, Excel, Python, R</td>\n",
       "      <td>Vídeoaula, Aula presencial, Materiais Didáticos</td>\n",
       "    </tr>\n",
       "    <tr>\n",
       "      <th>3</th>\n",
       "      <td>Economia</td>\n",
       "      <td>diu</td>\n",
       "      <td>2º km/s^2</td>\n",
       "      <td>Masculino</td>\n",
       "      <td>Nenhum</td>\n",
       "      <td>Sim</td>\n",
       "      <td>Mercado de Trabalho, Curiosidade</td>\n",
       "      <td>Análise de dados</td>\n",
       "      <td>Introdução à Lógica de Programação, Data Scien...</td>\n",
       "      <td>VBA, Excel, Python, R, C++</td>\n",
       "      <td>Aula presencial, Materiais Didáticos</td>\n",
       "    </tr>\n",
       "    <tr>\n",
       "      <th>4</th>\n",
       "      <td>Administração</td>\n",
       "      <td>diu</td>\n",
       "      <td>1º km/s^2</td>\n",
       "      <td>Feminino</td>\n",
       "      <td>Lógica de Programação</td>\n",
       "      <td>Sim</td>\n",
       "      <td>Mercado de Trabalho, Curiosidade</td>\n",
       "      <td>Automatização de processos, Análise de dados, ...</td>\n",
       "      <td>Introdução à Lógica de Programação, Programaçã...</td>\n",
       "      <td>VBA, Excel, Python, R, C++, Java</td>\n",
       "      <td>Materiais Didáticos</td>\n",
       "    </tr>\n",
       "  </tbody>\n",
       "</table>\n",
       "</div>"
      ],
      "text/plain": [
       "           curso periodo        ano       sexo           tema_conhece  \\\n",
       "0       Economia     diu  2º km/s^2   Feminino                 Nenhum   \n",
       "1       Economia     diu  2º km/s^2  Masculino                 Nenhum   \n",
       "2       Economia     diu  1º km/s^2  Masculino                 Nenhum   \n",
       "3       Economia     diu  2º km/s^2  Masculino                 Nenhum   \n",
       "4  Administração     diu  1º km/s^2   Feminino  Lógica de Programação   \n",
       "\n",
       "  interesse_programacao                                   motivo_interesse  \\\n",
       "0                   Sim  Mercado de Trabalho, Pesquisa Acadêmica, Curio...   \n",
       "1                   Sim            Mercado de Trabalho, Pesquisa Acadêmica   \n",
       "2                   Sim                   Mercado de Trabalho, Curiosidade   \n",
       "3                   Sim                   Mercado de Trabalho, Curiosidade   \n",
       "4                   Sim                   Mercado de Trabalho, Curiosidade   \n",
       "\n",
       "                                        area_mercado  \\\n",
       "0  Automatização de processos, Análise de dados, ...   \n",
       "1               Análise de dados, Pesquisa econômica   \n",
       "2                                           Finanças   \n",
       "3                                   Análise de dados   \n",
       "4  Automatização de processos, Análise de dados, ...   \n",
       "\n",
       "                                       tema_aprender  \\\n",
       "0  Introdução à Lógica de Programação, Data Scien...   \n",
       "1  Introdução à Lógica de Programação, Data Scien...   \n",
       "2  Introdução à Lógica de Programação, Programaçã...   \n",
       "3  Introdução à Lógica de Programação, Data Scien...   \n",
       "4  Introdução à Lógica de Programação, Programaçã...   \n",
       "\n",
       "                 linguagem_aprender  \\\n",
       "0  VBA, Excel, Python, R, C++, Java   \n",
       "1             VBA, Excel, Python, R   \n",
       "2             VBA, Excel, Python, R   \n",
       "3        VBA, Excel, Python, R, C++   \n",
       "4  VBA, Excel, Python, R, C++, Java   \n",
       "\n",
       "                                    forma_aprender  \n",
       "0             Aula presencial, Materiais Didáticos  \n",
       "1             Aula presencial, Materiais Didáticos  \n",
       "2  Vídeoaula, Aula presencial, Materiais Didáticos  \n",
       "3             Aula presencial, Materiais Didáticos  \n",
       "4                              Materiais Didáticos  "
      ]
     },
     "execution_count": 138,
     "metadata": {},
     "output_type": "execute_result"
    }
   ],
   "source": [
    "# Utilizando a função \"head()\", observarei os 5 primeiros elementos de cada coluna, para ter uma noção geral de como os dados estão armazenados\n",
    "\"\"\"\n",
    "Nota-se que todos os dados são qualitativos, o que limita a análise por meio de cálculos matemáticos avançados.\n",
    "\"\"\"\n",
    "df.head()"
   ]
  },
  {
   "cell_type": "code",
   "execution_count": 139,
   "metadata": {},
   "outputs": [
    {
     "data": {
      "text/plain": [
       "curso                     0\n",
       "periodo                   0\n",
       "ano                       0\n",
       "sexo                      0\n",
       "tema_conhece              0\n",
       "interesse_programacao     0\n",
       "motivo_interesse          5\n",
       "area_mercado             17\n",
       "tema_aprender             5\n",
       "linguagem_aprender        5\n",
       "forma_aprender            5\n",
       "dtype: int64"
      ]
     },
     "execution_count": 139,
     "metadata": {},
     "output_type": "execute_result"
    }
   ],
   "source": [
    "# Partindo agora para a análise de valores nulos presentes no DataFrame. Para isso utilizarei a função isnull(), junto a sum(), o que irá retornar a soma de todos valores nulos de cada coluna\n",
    "\"\"\"\n",
    "É possível perceber que há 5 colunas que possuem valores nulos, sendo a coluna \"area mercado\" a que possui maiores quantidades(17)\n",
    "\"\"\"\n",
    "df.isnull().sum()"
   ]
  },
  {
   "cell_type": "code",
   "execution_count": 140,
   "metadata": {},
   "outputs": [
    {
     "data": {
      "text/html": [
       "<div>\n",
       "<style scoped>\n",
       "    .dataframe tbody tr th:only-of-type {\n",
       "        vertical-align: middle;\n",
       "    }\n",
       "\n",
       "    .dataframe tbody tr th {\n",
       "        vertical-align: top;\n",
       "    }\n",
       "\n",
       "    .dataframe thead th {\n",
       "        text-align: right;\n",
       "    }\n",
       "</style>\n",
       "<table border=\"1\" class=\"dataframe\">\n",
       "  <thead>\n",
       "    <tr style=\"text-align: right;\">\n",
       "      <th></th>\n",
       "      <th>motivo_interesse</th>\n",
       "      <th>area_mercado</th>\n",
       "      <th>tema_aprender</th>\n",
       "      <th>linguagem_aprender</th>\n",
       "      <th>forma_aprender</th>\n",
       "    </tr>\n",
       "  </thead>\n",
       "  <tbody>\n",
       "    <tr>\n",
       "      <th>0</th>\n",
       "      <td>Mercado de Trabalho, Pesquisa Acadêmica, Curio...</td>\n",
       "      <td>Automatização de processos, Análise de dados, ...</td>\n",
       "      <td>Introdução à Lógica de Programação, Data Scien...</td>\n",
       "      <td>VBA, Excel, Python, R, C++, Java</td>\n",
       "      <td>Aula presencial, Materiais Didáticos</td>\n",
       "    </tr>\n",
       "    <tr>\n",
       "      <th>1</th>\n",
       "      <td>Mercado de Trabalho, Pesquisa Acadêmica</td>\n",
       "      <td>Análise de dados, Pesquisa econômica</td>\n",
       "      <td>Introdução à Lógica de Programação, Data Scien...</td>\n",
       "      <td>VBA, Excel, Python, R</td>\n",
       "      <td>Aula presencial, Materiais Didáticos</td>\n",
       "    </tr>\n",
       "    <tr>\n",
       "      <th>2</th>\n",
       "      <td>Mercado de Trabalho, Curiosidade</td>\n",
       "      <td>Finanças</td>\n",
       "      <td>Introdução à Lógica de Programação, Programaçã...</td>\n",
       "      <td>VBA, Excel, Python, R</td>\n",
       "      <td>Vídeoaula, Aula presencial, Materiais Didáticos</td>\n",
       "    </tr>\n",
       "    <tr>\n",
       "      <th>3</th>\n",
       "      <td>Mercado de Trabalho, Curiosidade</td>\n",
       "      <td>Análise de dados</td>\n",
       "      <td>Introdução à Lógica de Programação, Data Scien...</td>\n",
       "      <td>VBA, Excel, Python, R, C++</td>\n",
       "      <td>Aula presencial, Materiais Didáticos</td>\n",
       "    </tr>\n",
       "    <tr>\n",
       "      <th>4</th>\n",
       "      <td>Mercado de Trabalho, Curiosidade</td>\n",
       "      <td>Automatização de processos, Análise de dados, ...</td>\n",
       "      <td>Introdução à Lógica de Programação, Programaçã...</td>\n",
       "      <td>VBA, Excel, Python, R, C++, Java</td>\n",
       "      <td>Materiais Didáticos</td>\n",
       "    </tr>\n",
       "    <tr>\n",
       "      <th>...</th>\n",
       "      <td>...</td>\n",
       "      <td>...</td>\n",
       "      <td>...</td>\n",
       "      <td>...</td>\n",
       "      <td>...</td>\n",
       "    </tr>\n",
       "    <tr>\n",
       "      <th>303</th>\n",
       "      <td>Mercado de Trabalho, Pesquisa Acadêmica, Curio...</td>\n",
       "      <td>Finanças, Análise de dados</td>\n",
       "      <td>Blockchain, Machine Learning, Data Science</td>\n",
       "      <td>Python, R</td>\n",
       "      <td>Vídeoaula, Materiais Didáticos, Fazendo/Pratic...</td>\n",
       "    </tr>\n",
       "    <tr>\n",
       "      <th>304</th>\n",
       "      <td>Mercado de Trabalho, Desenvolvimento Web, Uma ...</td>\n",
       "      <td>T.I, sem saber muito bem qual área poderia seguir</td>\n",
       "      <td>Introdução à Lógica de Programação, Machine Le...</td>\n",
       "      <td>VBA, Excel, Python, C++, Java, HTML e CSS</td>\n",
       "      <td>Vídeoaula, Materiais Didáticos, Fazendo/Pratic...</td>\n",
       "    </tr>\n",
       "    <tr>\n",
       "      <th>305</th>\n",
       "      <td>Mercado de Trabalho, Pesquisa Acadêmica, Curio...</td>\n",
       "      <td>Finanças, Automatização de processos, Análise ...</td>\n",
       "      <td>Introdução à Lógica de Programação, Programaçã...</td>\n",
       "      <td>VBA, Excel, Python, R</td>\n",
       "      <td>Vídeoaula, Aula presencial, Materiais Didático...</td>\n",
       "    </tr>\n",
       "    <tr>\n",
       "      <th>306</th>\n",
       "      <td>Mercado de Trabalho, Pesquisa Acadêmica, Curio...</td>\n",
       "      <td>Automatização de processos</td>\n",
       "      <td>Introdução à Lógica de Programação, Programaçã...</td>\n",
       "      <td>VBA, Excel, Python, R, C++, Java</td>\n",
       "      <td>Vídeoaula, Aula presencial, Materiais Didático...</td>\n",
       "    </tr>\n",
       "    <tr>\n",
       "      <th>307</th>\n",
       "      <td>Mercado de Trabalho</td>\n",
       "      <td>NaN</td>\n",
       "      <td>Introdução à Lógica de Programação, Programaçã...</td>\n",
       "      <td>VBA, Excel, R</td>\n",
       "      <td>Aula presencial, Materiais Didáticos</td>\n",
       "    </tr>\n",
       "  </tbody>\n",
       "</table>\n",
       "<p>308 rows × 5 columns</p>\n",
       "</div>"
      ],
      "text/plain": [
       "                                      motivo_interesse  \\\n",
       "0    Mercado de Trabalho, Pesquisa Acadêmica, Curio...   \n",
       "1              Mercado de Trabalho, Pesquisa Acadêmica   \n",
       "2                     Mercado de Trabalho, Curiosidade   \n",
       "3                     Mercado de Trabalho, Curiosidade   \n",
       "4                     Mercado de Trabalho, Curiosidade   \n",
       "..                                                 ...   \n",
       "303  Mercado de Trabalho, Pesquisa Acadêmica, Curio...   \n",
       "304  Mercado de Trabalho, Desenvolvimento Web, Uma ...   \n",
       "305  Mercado de Trabalho, Pesquisa Acadêmica, Curio...   \n",
       "306  Mercado de Trabalho, Pesquisa Acadêmica, Curio...   \n",
       "307                                Mercado de Trabalho   \n",
       "\n",
       "                                          area_mercado  \\\n",
       "0    Automatização de processos, Análise de dados, ...   \n",
       "1                 Análise de dados, Pesquisa econômica   \n",
       "2                                             Finanças   \n",
       "3                                     Análise de dados   \n",
       "4    Automatização de processos, Análise de dados, ...   \n",
       "..                                                 ...   \n",
       "303                         Finanças, Análise de dados   \n",
       "304  T.I, sem saber muito bem qual área poderia seguir   \n",
       "305  Finanças, Automatização de processos, Análise ...   \n",
       "306                         Automatização de processos   \n",
       "307                                                NaN   \n",
       "\n",
       "                                         tema_aprender  \\\n",
       "0    Introdução à Lógica de Programação, Data Scien...   \n",
       "1    Introdução à Lógica de Programação, Data Scien...   \n",
       "2    Introdução à Lógica de Programação, Programaçã...   \n",
       "3    Introdução à Lógica de Programação, Data Scien...   \n",
       "4    Introdução à Lógica de Programação, Programaçã...   \n",
       "..                                                 ...   \n",
       "303         Blockchain, Machine Learning, Data Science   \n",
       "304  Introdução à Lógica de Programação, Machine Le...   \n",
       "305  Introdução à Lógica de Programação, Programaçã...   \n",
       "306  Introdução à Lógica de Programação, Programaçã...   \n",
       "307  Introdução à Lógica de Programação, Programaçã...   \n",
       "\n",
       "                            linguagem_aprender  \\\n",
       "0             VBA, Excel, Python, R, C++, Java   \n",
       "1                        VBA, Excel, Python, R   \n",
       "2                        VBA, Excel, Python, R   \n",
       "3                   VBA, Excel, Python, R, C++   \n",
       "4             VBA, Excel, Python, R, C++, Java   \n",
       "..                                         ...   \n",
       "303                                  Python, R   \n",
       "304  VBA, Excel, Python, C++, Java, HTML e CSS   \n",
       "305                      VBA, Excel, Python, R   \n",
       "306           VBA, Excel, Python, R, C++, Java   \n",
       "307                              VBA, Excel, R   \n",
       "\n",
       "                                        forma_aprender  \n",
       "0                 Aula presencial, Materiais Didáticos  \n",
       "1                 Aula presencial, Materiais Didáticos  \n",
       "2      Vídeoaula, Aula presencial, Materiais Didáticos  \n",
       "3                 Aula presencial, Materiais Didáticos  \n",
       "4                                  Materiais Didáticos  \n",
       "..                                                 ...  \n",
       "303  Vídeoaula, Materiais Didáticos, Fazendo/Pratic...  \n",
       "304  Vídeoaula, Materiais Didáticos, Fazendo/Pratic...  \n",
       "305  Vídeoaula, Aula presencial, Materiais Didático...  \n",
       "306  Vídeoaula, Aula presencial, Materiais Didático...  \n",
       "307               Aula presencial, Materiais Didáticos  \n",
       "\n",
       "[308 rows x 5 columns]"
      ]
     },
     "execution_count": 140,
     "metadata": {},
     "output_type": "execute_result"
    }
   ],
   "source": [
    "#Filtrando as colunas com valores nulos para ver se há alguma forma de substituir os dados, ou será melhor remover as linhas com valores nulos\n",
    "\"\"\"\n",
    "Nota-se que os dados são de difícil substituição uma vez que são valores qualitativos. Caso fosse valores númericos, poderia ser feita a média\n",
    "dos valores existentes e atribuí-la aos valores faltantes. Como última opção, removerei as linhas com valores nulos do Dataframe.\n",
    "\"\"\"\n",
    "filtro_null = df.iloc[:,6:]\n",
    "filtro_null"
   ]
  },
  {
   "cell_type": "code",
   "execution_count": 141,
   "metadata": {},
   "outputs": [
    {
     "data": {
      "text/html": [
       "<div>\n",
       "<style scoped>\n",
       "    .dataframe tbody tr th:only-of-type {\n",
       "        vertical-align: middle;\n",
       "    }\n",
       "\n",
       "    .dataframe tbody tr th {\n",
       "        vertical-align: top;\n",
       "    }\n",
       "\n",
       "    .dataframe thead th {\n",
       "        text-align: right;\n",
       "    }\n",
       "</style>\n",
       "<table border=\"1\" class=\"dataframe\">\n",
       "  <thead>\n",
       "    <tr style=\"text-align: right;\">\n",
       "      <th></th>\n",
       "      <th>count</th>\n",
       "      <th>unique</th>\n",
       "      <th>top</th>\n",
       "      <th>freq</th>\n",
       "    </tr>\n",
       "  </thead>\n",
       "  <tbody>\n",
       "    <tr>\n",
       "      <th>curso</th>\n",
       "      <td>308</td>\n",
       "      <td>5</td>\n",
       "      <td>Economia</td>\n",
       "      <td>121</td>\n",
       "    </tr>\n",
       "    <tr>\n",
       "      <th>periodo</th>\n",
       "      <td>308</td>\n",
       "      <td>4</td>\n",
       "      <td>Noturno</td>\n",
       "      <td>91</td>\n",
       "    </tr>\n",
       "    <tr>\n",
       "      <th>ano</th>\n",
       "      <td>308</td>\n",
       "      <td>12</td>\n",
       "      <td>2º km/s^2</td>\n",
       "      <td>100</td>\n",
       "    </tr>\n",
       "    <tr>\n",
       "      <th>sexo</th>\n",
       "      <td>308</td>\n",
       "      <td>3</td>\n",
       "      <td>Masculino</td>\n",
       "      <td>218</td>\n",
       "    </tr>\n",
       "    <tr>\n",
       "      <th>tema_conhece</th>\n",
       "      <td>308</td>\n",
       "      <td>6</td>\n",
       "      <td>Nenhum</td>\n",
       "      <td>83</td>\n",
       "    </tr>\n",
       "    <tr>\n",
       "      <th>interesse_programacao</th>\n",
       "      <td>308</td>\n",
       "      <td>2</td>\n",
       "      <td>Sim</td>\n",
       "      <td>303</td>\n",
       "    </tr>\n",
       "    <tr>\n",
       "      <th>motivo_interesse</th>\n",
       "      <td>303</td>\n",
       "      <td>22</td>\n",
       "      <td>Mercado de Trabalho, Curiosidade</td>\n",
       "      <td>84</td>\n",
       "    </tr>\n",
       "    <tr>\n",
       "      <th>area_mercado</th>\n",
       "      <td>291</td>\n",
       "      <td>22</td>\n",
       "      <td>Finanças, Automatização de processos, Análise ...</td>\n",
       "      <td>50</td>\n",
       "    </tr>\n",
       "    <tr>\n",
       "      <th>tema_aprender</th>\n",
       "      <td>303</td>\n",
       "      <td>60</td>\n",
       "      <td>Introdução à Lógica de Programação, Programaçã...</td>\n",
       "      <td>40</td>\n",
       "    </tr>\n",
       "    <tr>\n",
       "      <th>linguagem_aprender</th>\n",
       "      <td>303</td>\n",
       "      <td>71</td>\n",
       "      <td>VBA, Excel, Python, R</td>\n",
       "      <td>33</td>\n",
       "    </tr>\n",
       "    <tr>\n",
       "      <th>forma_aprender</th>\n",
       "      <td>303</td>\n",
       "      <td>23</td>\n",
       "      <td>Aula presencial, Materiais Didáticos</td>\n",
       "      <td>35</td>\n",
       "    </tr>\n",
       "  </tbody>\n",
       "</table>\n",
       "</div>"
      ],
      "text/plain": [
       "                      count unique  \\\n",
       "curso                   308      5   \n",
       "periodo                 308      4   \n",
       "ano                     308     12   \n",
       "sexo                    308      3   \n",
       "tema_conhece            308      6   \n",
       "interesse_programacao   308      2   \n",
       "motivo_interesse        303     22   \n",
       "area_mercado            291     22   \n",
       "tema_aprender           303     60   \n",
       "linguagem_aprender      303     71   \n",
       "forma_aprender          303     23   \n",
       "\n",
       "                                                                     top freq  \n",
       "curso                                                           Economia  121  \n",
       "periodo                                                          Noturno   91  \n",
       "ano                                                            2º km/s^2  100  \n",
       "sexo                                                           Masculino  218  \n",
       "tema_conhece                                                      Nenhum   83  \n",
       "interesse_programacao                                                Sim  303  \n",
       "motivo_interesse                        Mercado de Trabalho, Curiosidade   84  \n",
       "area_mercado           Finanças, Automatização de processos, Análise ...   50  \n",
       "tema_aprender          Introdução à Lógica de Programação, Programaçã...   40  \n",
       "linguagem_aprender                                 VBA, Excel, Python, R   33  \n",
       "forma_aprender                      Aula presencial, Materiais Didáticos   35  "
      ]
     },
     "execution_count": 141,
     "metadata": {},
     "output_type": "execute_result"
    }
   ],
   "source": [
    "#Utilizarei do método describre() para exibir os cálculos estatisticos básicos. Além disso, vou utilizar o tranpose() para deixar a tabela mais visível\n",
    "\"\"\"\n",
    "Uma coisa interessante que eu encontrei só agora na documentação do método describe é que ele automaticamente já retira os valores nulos,\n",
    "então não é necessário tratar os dados antes de utilizá-lo (como eu havia feito anteriormente).\n",
    "\n",
    "Pela análise dos valores, é perceptível o grande interesse dos repsondentes pela programação, já que, de acordo com os dados, todos possuem\n",
    "interesse na área. Além disso, na coluna \"tema_conhece\", vemos que a maioria (83) não conhece nenhum dos tópicos da programação, o que\n",
    "sugere que há um grande público com curiosidade e interesse pela área, porém ainda não possuem conhecimento pela falta de estímulo, sendo esse\n",
    "da própria graduação da FEA ou de seus discentes.\n",
    "Também é possível observar a preponderância de homens com interesse sobre a área, sendo eles 218 dos 308 respondentes.\n",
    "Tais valores podem serão melhores explorados posteriormente por meio de gráficos.\n",
    "\"\"\"\n",
    "df.describe().transpose()"
   ]
  },
  {
   "cell_type": "markdown",
   "metadata": {},
   "source": [
    "<font color=pink|black|black>*#####SEU CODIGO TERMINA AQUI#####*</font>\n",
    "\n",
    "## 3. Gráficos iniciais básicos + Limpeza dos dados\n",
    "\n",
    "Agora com tudo pronto, você decide finalmente limpar seu dataset. A limpeza de dados consiste em corrigir aquelas entradas que não conversam com o resto dos dados. Para isso, é muito comum que se façam vários gráficos e tabelas, quanto mais vemos os dados, mais erros identificamos. \n",
    "\n",
    "Assim, nessa seção gostariamos que você apontasse esses dados divergentes e corrigisse-os. Não se esqueça que, por se tratar de um formulário, não gostaríamos de ter dados faltantes (NaN).\n",
    "\n",
    "Dicas:\n",
    "1. Estude maneiras de como tratar esses dados faltantes e comece por isso. \n",
    "2. Use o countplot do seaborn e conte o número de alunos em cada curso, deixamos parte do código para você fazer esse exemplo. Faça isso para as outras variáveis.\n",
    "3. Você verá que existem alguns valores que não estão faltando, mas que fazem pouquíssimo sentido ou são outliers. O que fazer para limpá-los?\n",
    "4. Bons gráfico para ver a distribuição de dados numéricos: boxplot e histograma.\n",
    "5. Tome MUITO cuidado com aquelas perguntas (colunas) com multiplas combinações de respostas, são as colunas: motivo_interesse, area_mercado, tema_aprender, linguagem_aprender e forma_aprender. Pense em uma maneira de separar e isolar as alternativas.\n",
    "\n",
    "\n",
    "<font color=pink|black|black>*#####SEU CODIGO COMECA AQUI#####*</font>"
   ]
  },
  {
   "cell_type": "code",
   "execution_count": 142,
   "metadata": {},
   "outputs": [
    {
     "data": {
      "text/plain": [
       "'\\nCriei uma nova variável para armazenar os dados sem o valores nulos, pois dessa forma eu não perco os dados originais, os quais ainda estão armazenado na variável \"df\".\\n'"
      ]
     },
     "execution_count": 142,
     "metadata": {},
     "output_type": "execute_result"
    }
   ],
   "source": [
    "# Iniciando com o tratamento dos dados faltantes, pela análise já feita acima, conclui-se que a melhor forma de não enviesar e resolver o problema dos NaN seria removendo as linhas com dados faltantes. Para isso utilizaremos a função dropna() do pandas\n",
    "df_tratado = df.dropna()\n",
    "\"\"\"\n",
    "Criei uma nova variável para armazenar os dados sem o valores nulos, pois dessa forma eu não perco os dados originais, os quais ainda estão armazenado na variável \"df\".\n",
    "\"\"\""
   ]
  },
  {
   "cell_type": "code",
   "execution_count": 143,
   "metadata": {},
   "outputs": [
    {
     "name": "stdout",
     "output_type": "stream",
     "text": [
      "Além disso, percebe-se que no DataSet há um curso chamado de Ciência das Lulas. Por não existir um curso com tal nome na FEA, alguém respondeu o formulário de forma incorreta e é necessário analisarmos se o resto das informações deste respondente está correto, pois caso não esteja, será necessário eliminar os seus dados do DataSet.\n"
     ]
    },
    {
     "data": {
      "image/png": "[encoded data removed]",
      "text/plain": [
       "<Figure size 432x288 with 1 Axes>"
      ]
     },
     "metadata": {
      "needs_background": "light"
     },
     "output_type": "display_data"
    }
   ],
   "source": [
    "# GRÁFICO 1\n",
    "# Esqueleto de código para te ajudar. Complete substituindo o \"...\" pelo código que mais faz sentido.\n",
    "\n",
    "# Plotar gráfico de barras do número de alunos em cada curso\n",
    "# Utilizando a função countplot() da biblioteca Seaborn\n",
    "sns.countplot(x='curso',data=df_tratado,palette='viridis')\n",
    "\n",
    "print('Além disso, percebe-se que no DataSet há um curso chamado de Ciência das Lulas. Por não existir um curso com tal nome na FEA, alguém respondeu o formulário de forma incorreta e é necessário analisarmos se o resto das informações deste respondente está correto, pois caso não esteja, será necessário eliminar os seus dados do DataSet.')"
   ]
  },
  {
   "cell_type": "code",
   "execution_count": 144,
   "metadata": {},
   "outputs": [
    {
     "data": {
      "text/html": [
       "<div>\n",
       "<style scoped>\n",
       "    .dataframe tbody tr th:only-of-type {\n",
       "        vertical-align: middle;\n",
       "    }\n",
       "\n",
       "    .dataframe tbody tr th {\n",
       "        vertical-align: top;\n",
       "    }\n",
       "\n",
       "    .dataframe thead th {\n",
       "        text-align: right;\n",
       "    }\n",
       "</style>\n",
       "<table border=\"1\" class=\"dataframe\">\n",
       "  <thead>\n",
       "    <tr style=\"text-align: right;\">\n",
       "      <th></th>\n",
       "      <th>curso</th>\n",
       "      <th>periodo</th>\n",
       "      <th>ano</th>\n",
       "      <th>sexo</th>\n",
       "      <th>tema_conhece</th>\n",
       "      <th>interesse_programacao</th>\n",
       "      <th>motivo_interesse</th>\n",
       "      <th>area_mercado</th>\n",
       "      <th>tema_aprender</th>\n",
       "      <th>linguagem_aprender</th>\n",
       "      <th>forma_aprender</th>\n",
       "    </tr>\n",
       "  </thead>\n",
       "  <tbody>\n",
       "    <tr>\n",
       "      <th>50</th>\n",
       "      <td>Ciência das Lulas</td>\n",
       "      <td>not</td>\n",
       "      <td>4º km/s^2</td>\n",
       "      <td>Feminino</td>\n",
       "      <td>Nenhum</td>\n",
       "      <td>Sim</td>\n",
       "      <td>Mercado de Trabalho</td>\n",
       "      <td>Finanças, Análise de dados</td>\n",
       "      <td>Introdução à Lógica de Programação, Blockchain...</td>\n",
       "      <td>VBA, Excel, Python</td>\n",
       "      <td>Materiais Didáticos</td>\n",
       "    </tr>\n",
       "    <tr>\n",
       "      <th>59</th>\n",
       "      <td>Ciência das Lulas</td>\n",
       "      <td>not</td>\n",
       "      <td>5º km/s^2</td>\n",
       "      <td>Masculino</td>\n",
       "      <td>Banco de Dados</td>\n",
       "      <td>Sim</td>\n",
       "      <td>Mercado de Trabalho</td>\n",
       "      <td>Automatização de processos, Análise de dados</td>\n",
       "      <td>Programação Orientada a objeto, Data Science, ...</td>\n",
       "      <td>Python, R, C++, Java</td>\n",
       "      <td>Vídeoaula, Materiais Didáticos</td>\n",
       "    </tr>\n",
       "    <tr>\n",
       "      <th>143</th>\n",
       "      <td>Ciência das Lulas</td>\n",
       "      <td>not</td>\n",
       "      <td>3º km/s^2</td>\n",
       "      <td>Feminino</td>\n",
       "      <td>Lógica de Programação</td>\n",
       "      <td>Sim</td>\n",
       "      <td>Mercado de Trabalho</td>\n",
       "      <td>Seguros</td>\n",
       "      <td>Não Sei</td>\n",
       "      <td>R, Sas</td>\n",
       "      <td>Aula presencial, Fazendo/Praticando</td>\n",
       "    </tr>\n",
       "    <tr>\n",
       "      <th>152</th>\n",
       "      <td>Ciência das Lulas</td>\n",
       "      <td>Noturno</td>\n",
       "      <td>1º km/s^2</td>\n",
       "      <td>Masculino</td>\n",
       "      <td>Banco de Dados</td>\n",
       "      <td>Sim</td>\n",
       "      <td>Mercado de Trabalho, Curiosidade</td>\n",
       "      <td>Finanças</td>\n",
       "      <td>Introdução à Lógica de Programação, Programaçã...</td>\n",
       "      <td>Excel, Python, C++, Java</td>\n",
       "      <td>Vídeoaula, Aula presencial, Fazendo/Praticando</td>\n",
       "    </tr>\n",
       "    <tr>\n",
       "      <th>291</th>\n",
       "      <td>Ciência das Lulas</td>\n",
       "      <td>Noturno</td>\n",
       "      <td>2º km/s^2</td>\n",
       "      <td>Masculino</td>\n",
       "      <td>Programação Orientada a Objetos</td>\n",
       "      <td>Sim</td>\n",
       "      <td>Mercado de Trabalho, Curiosidade, Desenvolvime...</td>\n",
       "      <td>Finanças, Automatização de processos, Análise ...</td>\n",
       "      <td>Data Science, Banco de dados</td>\n",
       "      <td>Python, R, C++, Java, SQL</td>\n",
       "      <td>Vídeoaula, Aula presencial, Fazendo/Praticando</td>\n",
       "    </tr>\n",
       "  </tbody>\n",
       "</table>\n",
       "</div>"
      ],
      "text/plain": [
       "                 curso  periodo        ano       sexo  \\\n",
       "50   Ciência das Lulas      not  4º km/s^2   Feminino   \n",
       "59   Ciência das Lulas      not  5º km/s^2  Masculino   \n",
       "143  Ciência das Lulas      not  3º km/s^2   Feminino   \n",
       "152  Ciência das Lulas  Noturno  1º km/s^2  Masculino   \n",
       "291  Ciência das Lulas  Noturno  2º km/s^2  Masculino   \n",
       "\n",
       "                        tema_conhece interesse_programacao  \\\n",
       "50                            Nenhum                   Sim   \n",
       "59                    Banco de Dados                   Sim   \n",
       "143            Lógica de Programação                   Sim   \n",
       "152                   Banco de Dados                   Sim   \n",
       "291  Programação Orientada a Objetos                   Sim   \n",
       "\n",
       "                                      motivo_interesse  \\\n",
       "50                                 Mercado de Trabalho   \n",
       "59                                 Mercado de Trabalho   \n",
       "143                                Mercado de Trabalho   \n",
       "152                   Mercado de Trabalho, Curiosidade   \n",
       "291  Mercado de Trabalho, Curiosidade, Desenvolvime...   \n",
       "\n",
       "                                          area_mercado  \\\n",
       "50                          Finanças, Análise de dados   \n",
       "59        Automatização de processos, Análise de dados   \n",
       "143                                            Seguros   \n",
       "152                                           Finanças   \n",
       "291  Finanças, Automatização de processos, Análise ...   \n",
       "\n",
       "                                         tema_aprender  \\\n",
       "50   Introdução à Lógica de Programação, Blockchain...   \n",
       "59   Programação Orientada a objeto, Data Science, ...   \n",
       "143                                            Não Sei   \n",
       "152  Introdução à Lógica de Programação, Programaçã...   \n",
       "291                       Data Science, Banco de dados   \n",
       "\n",
       "            linguagem_aprender                                  forma_aprender  \n",
       "50          VBA, Excel, Python                             Materiais Didáticos  \n",
       "59        Python, R, C++, Java                  Vídeoaula, Materiais Didáticos  \n",
       "143                     R, Sas             Aula presencial, Fazendo/Praticando  \n",
       "152   Excel, Python, C++, Java  Vídeoaula, Aula presencial, Fazendo/Praticando  \n",
       "291  Python, R, C++, Java, SQL  Vídeoaula, Aula presencial, Fazendo/Praticando  "
      ]
     },
     "execution_count": 144,
     "metadata": {},
     "output_type": "execute_result"
    }
   ],
   "source": [
    "# Para encontra as informações do indíviduo que respondeu \"Ciência das Lulas\" como seu curso, utilizarei uma forma de filtrar os dados selecionando apenas o dados que possue a coluna \"curso\" igual a \"Ciência das Lulas\"\n",
    "\"\"\"\n",
    "Analisando o resultado, verifica-se que o resto dos dados dos indivíduos selecionados está corretamente respondido. Portanto irei eliminar esses valores para gerar o gráfico de cursos, porém continuarei com eles para gerar o gráfico de outras colunas.\n",
    "\"\"\"\n",
    "valores_curso_retirar = df_tratado[df_tratado['curso']=='Ciência das Lulas'] # Selecionando apenas elementos que retornam True para a condição: coluna \"curso\" ser igual a \"Ciência das Lulas\"\n",
    "valores_curso_retirar #Variável com o filtro aplicado\n"
   ]
  },
  {
   "cell_type": "code",
   "execution_count": 145,
   "metadata": {},
   "outputs": [
    {
     "name": "stdout",
     "output_type": "stream",
     "text": [
      "Plotando o gráfico de barras do número de alunos de cada curso nota-se o grande número de respondentes no curso de Economia. Por um lado podemos dizer que os alunos desse curso estão mais interessados na programação, porém pode ter tido uma maior divulgação do formulário em grupos deste curso. No entanto, de qualquer forma, para esse DataSet, Economia mostra-se como mais interessada e a Atuárias a menos. Uma forma de reconhecer os cursos que possuem maiores quantidades de pessoas muito interessadas em programação, não só para o mercado de trabalho, e sim como um hobbie seria observando em quais há o maior número de \"curiosos\". Assim, farei a seguir uma análise da coluna \"motivo_interesse\" para tomar uma conclusão.\n"
     ]
    },
    {
     "data": {
      "text/plain": [
       "<matplotlib.axes._subplots.AxesSubplot at 0x2e0c7efdcc0>"
      ]
     },
     "execution_count": 145,
     "metadata": {},
     "output_type": "execute_result"
    },
    {
     "data": {
      "image/png": "[encoded data removed]",
      "text/plain": [
       "<Figure size 432x288 with 1 Axes>"
      ]
     },
     "metadata": {
      "needs_background": "light"
     },
     "output_type": "display_data"
    }
   ],
   "source": [
    "# GRÁFICO 2\n",
    "# Eliminando os valores incorretos na coluna curso e plotando o gráfico correto.\n",
    "\n",
    "print('Plotando o gráfico de barras do número de alunos de cada curso nota-se o grande número de respondentes no curso de Economia. Por um lado podemos dizer que os alunos desse curso estão mais interessados na programação, porém pode ter tido uma maior divulgação do formulário em grupos deste curso. No entanto, de qualquer forma, para esse DataSet, Economia mostra-se como mais interessada e a Atuárias a menos. Uma forma de reconhecer os cursos que possuem maiores quantidades de pessoas muito interessadas em programação, não só para o mercado de trabalho, e sim como um hobbie seria observando em quais há o maior número de \"curiosos\". Assim, farei a seguir uma análise da coluna \"motivo_interesse\" para tomar uma conclusão.')\n",
    "\n",
    "df_curso_plot = df_tratado[df_tratado['curso'] != \"Ciência das Lulas\"] # Selecionando os elementos que retornam True para a condição: coluna \"curso\" diferente de \"Ciência das Lulas\"\n",
    "sns.countplot(df_curso_plot['curso'], palette='viridis') # Utilizando a função countplot() do Seaborn para contar os elementos da coluna \"curso\""
   ]
  },
  {
   "cell_type": "code",
   "execution_count": 146,
   "metadata": {},
   "outputs": [
    {
     "name": "stdout",
     "output_type": "stream",
     "text": [
      "Os alunos do noturno são maioria, porém não há uma diferença expressiva em relação ao diurno.\n"
     ]
    },
    {
     "data": {
      "image/png": "[encoded data removed]",
      "text/plain": [
       "<Figure size 432x288 with 1 Axes>"
      ]
     },
     "metadata": {
      "needs_background": "light"
     },
     "output_type": "display_data"
    }
   ],
   "source": [
    "# GRÁFICO 3\n",
    "# Número de respondentes do perído diurno e noturno\n",
    "sns.countplot(df_tratado['periodo'].replace(['diu','not'],['Diurno','Noturno'])) # Utilizando a função countplot() para contar os elementos da coluna \"periodo\" e a função replace() para tranformar as respostas \"diu\" e \"not\" em \"Diurno\" e \"Noturno\"\n",
    "print('Os alunos do noturno são maioria, porém não há uma diferença expressiva em relação ao diurno.')"
   ]
  },
  {
   "cell_type": "code",
   "execution_count": 147,
   "metadata": {
    "scrolled": true
   },
   "outputs": [
    {
     "name": "stdout",
     "output_type": "stream",
     "text": [
      "A disparidade de gênero é muito evidente por meio desse gráfico. Mais a frente analisarei a relação entre o interesse em programação em relação sexo, porém nessa exibição é importante ressaltar que a própria FEA possui um grande disparidade de gênero e por isso a grande diferença entre os respondentes.\n"
     ]
    },
    {
     "data": {
      "text/plain": [
       "<matplotlib.axes._subplots.AxesSubplot at 0x2e0c77c18d0>"
      ]
     },
     "execution_count": 147,
     "metadata": {},
     "output_type": "execute_result"
    },
    {
     "data": {
      "image/png": "[encoded data removed]",
      "text/plain": [
       "<Figure size 432x288 with 1 Axes>"
      ]
     },
     "metadata": {
      "needs_background": "light"
     },
     "output_type": "display_data"
    }
   ],
   "source": [
    "# GRÁFICO 4\n",
    "# Quantidade de indivíduos de cada gênero\n",
    "\n",
    "print('A disparidade de gênero é muito evidente por meio desse gráfico. Mais a frente analisarei a relação entre o interesse em programação em relação sexo, porém nessa exibição é importante ressaltar que a própria FEA possui um grande disparidade de gênero e por isso a grande diferença entre os respondentes.')\n",
    "sns.countplot(df_tratado['sexo'])# Utilizando a função countplot() para exibir o gráfico de contagem da coluna 'sexo'"
   ]
  },
  {
   "cell_type": "code",
   "execution_count": 148,
   "metadata": {},
   "outputs": [
    {
     "name": "stdout",
     "output_type": "stream",
     "text": [
      "O curso de Economia e Atuárias são, de longe, os que apresentam a maior disparidade de gênero.\n"
     ]
    },
    {
     "data": {
      "text/plain": [
       "<matplotlib.axes._subplots.AxesSubplot at 0x2e0c78d9a20>"
      ]
     },
     "execution_count": 148,
     "metadata": {},
     "output_type": "execute_result"
    },
    {
     "data": {
      "image/png": "[encoded data removed]",
      "text/plain": [
       "<Figure size 432x288 with 1 Axes>"
      ]
     },
     "metadata": {
      "needs_background": "light"
     },
     "output_type": "display_data"
    }
   ],
   "source": [
    "# GRÁFICO 5\n",
    "# Disparidade de gênero em cada curso\n",
    "print('O curso de Economia e Atuárias são, de longe, os que apresentam a maior disparidade de gênero.')\n",
    "sns.countplot(df_curso_plot['curso'], hue=df_tratado['sexo']) #Utilizando a função countplot() para exibir a contagem de indivíduos em cada curso, separado pelo seu gênero."
   ]
  },
  {
   "cell_type": "code",
   "execution_count": 149,
   "metadata": {},
   "outputs": [
    {
     "data": {
      "text/plain": [
       "2º km/s^2         91\n",
       "1º km/s^2         89\n",
       "3º km/s^2         44\n",
       "4º km/s^2         37\n",
       "5º km/s^2         19\n",
       "6º km/s^2          5\n",
       "7º km/s^2          1\n",
       "-40º km/s^2        1\n",
       "10000º km/s^2      1\n",
       "-1337º km/s^2      1\n",
       "-10000º km/s^2     1\n",
       "999º km/s^2        1\n",
       "Name: ano, dtype: int64"
      ]
     },
     "execution_count": 149,
     "metadata": {},
     "output_type": "execute_result"
    }
   ],
   "source": [
    "# Ano do aluno em seu curso\n",
    "\"\"\"\n",
    "Ao observar a coluna 'ano', encontrei alguns dados incorretos que deverão ser excluídos\n",
    "\"\"\"\n",
    "df_tratado['ano'].value_counts() # Utilizando a função value_counts() do pandas para retornar a contagem de valores da coluna \"ano\" "
   ]
  },
  {
   "cell_type": "code",
   "execution_count": 150,
   "metadata": {},
   "outputs": [],
   "source": [
    "# Excluindo os dados incorretos da coluna ano\n",
    "\"\"\"\n",
    "Procurei fazer um for para percorrer os elementos incorretos e a cada iteração, procurá-los no DataFrame para encontrar\n",
    "o index correspondente. Tendo o index de cada elemento, eu utilizei a função drop() para excluí-los e armazenei o novo DataFrame\n",
    "na variável df_ano_plot.\n",
    "\"\"\"\n",
    "first_drop = False # Variável com valor booleano para ser usado posteriormente a uma condição. Esse valor representa se já ocorreu a primeira exclusão de um dos dados incorretos ou se ainda não ocorreu.\n",
    "lista_index = [] # Lista com o index de cada valor incorreto na coluna. A lista será preenchida ao decorrer da iteração\n",
    "for valor in ['-40º km/s^2','10000º km/s^2','999º km/s^2','-10000º km/s^2','-1337º km/s^2']: # Iterando sobre a lista de valores incorretos\n",
    "    localizacao = df_tratado['ano'][df_tratado['ano']==valor].index # Armazenando uma variável com a linha da coluna \"ano\" que possui como dado o valor representado na iteração.\n",
    "    if not first_drop: # Se for a primeira exclusão, o programa roda os códigos identados.\n",
    "        df_ano_plot = df_tratado.drop(localizacao, axis=0) # Utilizando a função drop() para excluir as linhas que possuem os valores incorretos na coluna \"ano\" e armazenando na variável df_curso_plot\n",
    "        first_drop = True # Mudando o valor da variável pois a primeira exclusão já ocorreu\n",
    "    else: # Se não for a primeira exclusão, o programa roda os códigos identados.\n",
    "        df_ano_plot = df_ano_plot.drop(localizacao, axis=0) # Utilizando a função drop() para excluir as linhas que possuem os valores incorretos e armazenando na variável df_curso_plot"
   ]
  },
  {
   "cell_type": "code",
   "execution_count": 151,
   "metadata": {},
   "outputs": [
    {
     "name": "stdout",
     "output_type": "stream",
     "text": [
      "Nota-se que, majoritariamente, os alunos do primeiro e segundo ano são os que responderam ao questionário e apresentam-se interessados e a disposição de aprender mais sobre a área de programação.\n"
     ]
    },
    {
     "data": {
      "image/png": "[encoded data removed]",
      "text/plain": [
       "<Figure size 432x288 with 1 Axes>"
      ]
     },
     "metadata": {
      "needs_background": "light"
     },
     "output_type": "display_data"
    }
   ],
   "source": [
    "# GRÁFICO 6\n",
    "# Ano do aluno em seu curso\n",
    "\n",
    "sns.countplot(df_ano_plot['ano'], hue=df_ano_plot['interesse_programacao']) # Utilizando a função countplot() para exibir o gráfico da coluna \"ano\" do DataFrame gerado no código acima.\n",
    "plt.xticks(rotation= 30) # Utilizando o método xtick() do matplotlib para deixar os rótulos do eixo x em 30º graus.\n",
    "print('Nota-se que, majoritariamente, os alunos do primeiro e segundo ano são os que responderam ao questionário e apresentam-se interessados e a disposição de aprender mais sobre a área de programação.')"
   ]
  },
  {
   "cell_type": "markdown",
   "metadata": {},
   "source": [
    "## 4. Gráficos mais robustos\n",
    "\n",
    "Ufa, parabéns por chegar até aqui! Os dados estavam bem sujos e agora sim podemos fazer gráficos mais elaborados para poder tirar conclusões melhores. \n",
    "\n",
    "Assim como nas outras sessões, você poderá seguir a linha que quiser, mas recomendamos que use o matplotlib e o seaborn (mais o último pela simplicidade) e começando pela análise das variáveis (colunas) mais simples (como curso, sexo, etc.) e depois indo para análises mais complexas, como relacionar mais de duas variáveis. \n",
    "\n",
    "Dicas:\n",
    "1. Pense em como relacionar as varíaveis em um mesmo gráfico. Comece se perguntando uma pergunta, por exemplo: existe diferença de conhecimento dos temas de programação entre sexos?\n",
    "2. Faça análises simples relacionando duas variáveis.\n",
    "3. Faça análises mais complexas, relacionando mais de duas variáveis."
   ]
  },
  {
   "cell_type": "markdown",
   "metadata": {},
   "source": [
    "# ANÁLISE DE CURIOSIDADE EM RELAÇÃO A CADA CURSO DA FEA USP"
   ]
  },
  {
   "cell_type": "code",
   "execution_count": 152,
   "metadata": {},
   "outputs": [
    {
     "name": "stdout",
     "output_type": "stream",
     "text": [
      "Portanto, observando os valores exibidos, percebe-se que há uma alta porcentagem de curiosidade sobre programação pelos graduandos da FEA. Tanto os alunos de Administração, os quais possuem uma disciplina de programação na grade, como outros cursos, que não apresentam a disciplina, exibem interesse e, dessa forma, demonstra-se que abrir um curso sobre a área possui grande probabilidade de alta participação da comunidade Feana.\n"
     ]
    },
    {
     "data": {
      "image/png": "[encoded data removed]",
      "text/plain": [
       "<Figure size 432x288 with 1 Axes>"
      ]
     },
     "metadata": {
      "needs_background": "light"
     },
     "output_type": "display_data"
    }
   ],
   "source": [
    "# Gerando os valores a serem utilizados no gráfico\n",
    "df_curso_plot_na = df_curso_plot.dropna() #Retirando valores nulos, pois agora eles influenciarão na análise\n",
    "\n",
    "filtro = df_curso_plot_na['motivo_interesse'].str.contains('Curiosidade') # Filtrando apenas os dados com \"Curiosidade\"\n",
    "\n",
    "curiosos = df_curso_plot_na[filtro] # DataFrame apenas com indivíduos que marcaram \"Curiosidade\" como motivo_interesse\n",
    "\n",
    "porcentagem_cada_curso = pd.DataFrame(curiosos['curso'].value_counts()/df_curso_plot_na['curso'].value_counts()) #Porcentagem de curiosos para cada curso\n",
    "\n",
    "# GRÁFICO 7\n",
    "# Plotando o Gráfico Cursos X Curiosos\n",
    "porcentagem_cada_curso.plot.bar()\n",
    "print('Portanto, observando os valores exibidos, percebe-se que há uma alta porcentagem de curiosidade sobre programação pelos graduandos da FEA. Tanto os alunos de Administração, os quais possuem uma disciplina de programação na grade, como outros cursos, que não apresentam a disciplina, exibem interesse e, dessa forma, demonstra-se que abrir um curso sobre a área possui grande probabilidade de alta participação da comunidade Feana.')"
   ]
  },
  {
   "cell_type": "markdown",
   "metadata": {},
   "source": [
    "# ANÁLISE DO SEXO E INTERESSE EM PROGRAMAÇÃO"
   ]
  },
  {
   "cell_type": "code",
   "execution_count": 153,
   "metadata": {},
   "outputs": [
    {
     "name": "stdout",
     "output_type": "stream",
     "text": [
      "O gráfico exibe que o sexo masculino apresenta mais que o dobro de indivíduos interessados em programação m relação ao sexo feminino. Isso mostra que ainda há uma grande disparidade de gênero na área de tecnologia evido principalmente, na minha opinião, à cultura de que as mulheres não são capacitadas em áreas que envolvam cálculos e tecnologia.\n"
     ]
    },
    {
     "data": {
      "image/png": "[encoded data removed]",
      "text/plain": [
       "<Figure size 432x288 with 1 Axes>"
      ]
     },
     "metadata": {
      "needs_background": "light"
     },
     "output_type": "display_data"
    }
   ],
   "source": [
    "# GRÁFICO 8\n",
    "sns.countplot(x='interesse_programacao',data=df, hue='sexo') # Utilizando a função countplot() para exibir o gráfico da coluna \"interesse_programação\", separando os valores pela coluna \"sexo\n",
    "print('O gráfico exibe que o sexo masculino apresenta mais que o dobro de indivíduos interessados em programação m relação ao sexo feminino. Isso mostra que ainda há uma grande disparidade de gênero na área de tecnologia evido principalmente, na minha opinião, à cultura de que as mulheres não são capacitadas em áreas que envolvam cálculos e tecnologia.')"
   ]
  },
  {
   "cell_type": "markdown",
   "metadata": {},
   "source": [
    "# ANÁLISE DOS TEMAS CONHECIDOS PELOS AlUNOS DE CADA CURSO"
   ]
  },
  {
   "cell_type": "code",
   "execution_count": 154,
   "metadata": {},
   "outputs": [
    {
     "name": "stdout",
     "output_type": "stream",
     "text": [
      "A grande maioria dos estudantes não apresentam nenhum conhecimento em programação, o que já demonstra a importância de uma entidade ligada a essa área para incentivar a aquisição de habilidades essenciais em um mundo voltado à tecnologia. Além disso, a Lógica da Programação já esta bastante difundida na universidade, uma vez que apenas o curso de Administração possui uma disciplina acerca, porém ainda é possível melhorar.\n"
     ]
    },
    {
     "data": {
      "image/png": "[encoded data removed]",
      "text/plain": [
       "<Figure size 432x288 with 1 Axes>"
      ]
     },
     "metadata": {
      "needs_background": "light"
     },
     "output_type": "display_data"
    }
   ],
   "source": [
    "# GRÁFICO 9\n",
    "sns.countplot(x='tema_conhece',data=df_curso_plot, hue='curso') # Utilizando a função countplot() para exibir o gráfico da coluna \"tema_conhece\", separando os valores pela coluna \"curso\"\n",
    "plt.xticks(rotation=75) # Rotacionando em 75 graus os rótulos do eixo x\n",
    "print('A grande maioria dos estudantes não apresentam nenhum conhecimento em programação, o que já demonstra a importância de uma entidade ligada a essa área para incentivar a aquisição de habilidades essenciais em um mundo voltado à tecnologia. Além disso, a Lógica da Programação já esta bastante difundida na universidade, uma vez que apenas o curso de Administração possui uma disciplina acerca, porém ainda é possível melhorar.')"
   ]
  },
  {
   "cell_type": "markdown",
   "metadata": {},
   "source": [
    "# ANÁLISE DAS LINGUAGENS DE PROGRAMAÇÃO"
   ]
  },
  {
   "cell_type": "code",
   "execution_count": 155,
   "metadata": {},
   "outputs": [],
   "source": [
    "'''Antes de criar o gráfico, é necessário criar um dicionário com as colunas representando as linguagem e os valores o número de respondentes interessados em aprendê-las'''\n",
    "# Criando a função a ser utilizada posteriormente no método apply\n",
    "def em_cada_linha(linha): # O parâmetro linha representa cada linha da Series que terá uma lista de valores dentro\n",
    "    for ling in linha: # Percorrendo a lista de valores\n",
    "        ling = ling.strip().upper() # Utilizando método strip() para retirar espaços desnecessários e o método upper() para deixar todas as letras maiúsculas.\n",
    "        if ling not in colunas_criadas: # Se o valor (nome da linguagem de programação) não estiver na lista \"colunas criadas\"\n",
    "            colunas_criadas.append(ling) # O valor será adicionado na lista por meio do método append()\n",
    "            dict_linguagem_aprender[ling] = 1 # Será criada uma nova coluna no dicionário \"dict_linguagem_aprender\" com o nome da linguagem\n",
    "        else: # Se o valor já estiver na lista \"colunas_criadas\"\n",
    "            dict_linguagem_aprender[ling] += 1 # Será somado +1 no valor da chave que representa a linguagem"
   ]
  },
  {
   "cell_type": "code",
   "execution_count": 156,
   "metadata": {},
   "outputs": [],
   "source": [
    "# Aplicando a função criada\n",
    "colunas_criadas = [] # Criando a lista \"colunas_criadas\"\n",
    "dict_linguagem_aprender = {} # Criando o dicionário \"df_linguagem_aprender\"\n",
    "aplicando_funcao = df_tratado['linguagem_aprender'].str.split(',').apply(em_cada_linha) # Utilizando o método split(',') para separar os valores pelas vírgulas presentes e depois aplicando o método apply() para executar a função criada no código anterior em cada linha do da coluna \"linguagem_aprender\""
   ]
  },
  {
   "cell_type": "code",
   "execution_count": 157,
   "metadata": {},
   "outputs": [
    {
     "name": "stdout",
     "output_type": "stream",
     "text": [
      "O Gráfico exalta que os alunos da FEA USP estão muito mais interessados em utilizar da aplicação para a sua área de atuação. Ou seja, nota-se que as principais linguagens exibidas pelo gráfico, são aquelas que possuem a análise de dados, visualização de dados e recursos estatísticos como principal característica\n"
     ]
    },
    {
     "data": {
      "image/png": "[encoded data removed]",
      "text/plain": [
       "<Figure size 432x288 with 1 Axes>"
      ]
     },
     "metadata": {
      "needs_background": "light"
     },
     "output_type": "display_data"
    }
   ],
   "source": [
    "# GRÁFICO 10\n",
    "# Gráfico das Linguagem de Programação\n",
    "\n",
    "names = list(dict_linguagem_aprender.keys()) # Criando a variável \"names\" que será o eixo x do gráfico\n",
    "values = list(dict_linguagem_aprender.values()) # Criando a variável  \"values\" que será o eixo y do gráfico\n",
    "\n",
    "plt.bar(range(len(df_linguagem_aprender)),values,tick_label=names) # Utilizando o método bar() do matplotlib criarei um gráfico de barras com os valores das variáveis \"names\" e \"values\"\n",
    "plt.xticks(rotation=90) # Tulizando o método xticks() para rotacionar os rótulos do eixo x em 90 graus\n",
    "print('O Gráfico exalta que os alunos da FEA USP estão muito mais interessados em utilizar da aplicação para a sua área de atuação. Ou seja, nota-se que as principais linguagens exibidas pelo gráfico, são aquelas que possuem a análise de dados, visualização de dados e recursos estatísticos como principal característica')"
   ]
  },
  {
   "cell_type": "code",
   "execution_count": 159,
   "metadata": {},
   "outputs": [],
   "source": [
    "def forma_aprender_cada_linha(linha): # O parâmetro linha representa cada linha da Series que terá uma lista de valores dentro\n",
    "    for forma in linha: # Percorrendo a lista de valores\n",
    "        forma = forma.strip().lower().capitalize() # Utilizando método strip() para retirar espaços desnecessários, o método lower() para deixar todas as letras minúsculas e por fim o método capitalize() para deixar a primeira letra maiúscula.\n",
    "        if forma not in colunas_formas: # Se o valor (nome da linguagem de programação) não estiver na lista \"colunas formas\"\n",
    "            colunas_formas.append(forma) # O valor será adicionado na lista por meio do método append()\n",
    "            dict_forma_aprender[forma] = 1 # Será criada uma nova coluna no dicionário \"dict_forma_aprender\" com o nome da linguagem\n",
    "        else: # Se o valor já estiver na lista \"colunas_formas\"\n",
    "            dict_forma_aprender[forma] += 1 # Será somado +1 no valor da chave que representa a forma"
   ]
  },
  {
   "cell_type": "code",
   "execution_count": 161,
   "metadata": {},
   "outputs": [],
   "source": [
    "# Aplicando a função \"forma_aprender_cada_linha\" à coluna \"forma_aprender\"\n",
    "colunas_formas = [] # Criando a lista utilizada na função acima\n",
    "dict_forma_aprender = {} # Criando o dicionário que será gerado pela função acima\n",
    "forma_aprender_apply = df_tratado['forma_aprender'].str.split(',').apply(forma_aprender_cada_linha) # Separando os valores da coluna \"forma_aprender\" pelas vírgulas e aplicando a função criada no código acima"
   ]
  },
  {
   "cell_type": "code",
   "execution_count": 162,
   "metadata": {},
   "outputs": [
    {
     "data": {
      "text/plain": [
       "{'Aula presencial': 182,\n",
       " 'Materiais didáticos': 169,\n",
       " 'Vídeoaula': 145,\n",
       " 'Fazendo': 1,\n",
       " 'Não sei': 6,\n",
       " 'Exercícios': 1,\n",
       " 'Praticando': 1,\n",
       " 'Fazendo/praticando': 138,\n",
       " 'Pesquisando em fóruns': 1,\n",
       " 'Exercícios e aplicações reais': 1}"
      ]
     },
     "execution_count": 162,
     "metadata": {},
     "output_type": "execute_result"
    }
   ],
   "source": [
    "# Mudando o valor de uma key por questões estéticas (pois o texto é muito grande)\n",
    "dict_forma_aprender['Exercícios e aplicações reais'] = dict_forma_aprender.pop('Exercícios (partindo do básico ao mais complexo) e aplicações no mundo real (mercado de trabalho)')\n",
    "dict_forma_aprender"
   ]
  },
  {
   "cell_type": "code",
   "execution_count": 163,
   "metadata": {},
   "outputs": [
    {
     "name": "stdout",
     "output_type": "stream",
     "text": [
      "Pela análise do gráfico, notá-se que as principais formas de aprender prospostas pelos próprios discentes da FEA USP são aulas presenciais, materiais didáticos, vídeoaula e exercício, o que realemnte é muito efetivo pois aborda tanto a questão teórica da programação quanto a prática e fixação de conhecimento\n"
     ]
    },
    {
     "data": {
      "image/png": "[encoded data removed]",
      "text/plain": [
       "<Figure size 432x288 with 1 Axes>"
      ]
     },
     "metadata": {
      "needs_background": "light"
     },
     "output_type": "display_data"
    }
   ],
   "source": [
    "names_forma = list(dict_forma_aprender.keys()) # Criando a variável \"names\" que será o eixo x do gráfico\n",
    "values_forma = list(dict_forma_aprender.values()) # Criando a variável  \"values\" que será o eixo y do gráfico\n",
    "# Mudando o valor de uma string por questões estéticas (por ser muito grande o texto)\n",
    "\n",
    "# GRÁFICO 11\n",
    "plt.bar(range(len(dict_forma_aprender)),values_forma,tick_label=names_forma) # Utilizando o método bar() do matplotlib criarei um gráfico de barras com os valores das variáveis \"names_forma\" e \"values_forma\"\n",
    "plt.xticks(rotation=90)\n",
    "print('Pela análise do gráfico, notá-se que as principais formas de aprender prospostas pelos próprios discentes da FEA USP são aulas presenciais, materiais didáticos, vídeoaula e exercício, o que realemnte é muito efetivo pois aborda tanto a questão teórica da programação quanto a prática e fixação de conhecimento')"
   ]
  },
  {
   "cell_type": "markdown",
   "metadata": {},
   "source": [
    "<font color=pink|black|black>*#####SEU CODIGO TERMINA AQUI#####*</font>"
   ]
  },
  {
   "cell_type": "markdown",
   "metadata": {},
   "source": [
    "## 5. Análise crítica e proposta de intervenção (OBRIGATÓRIO)\n",
    "\n",
    "Na célula de \"markdown\" (texto) abaixo, gostaríamos que você desse sua análise crítica sobre o estudo realizado. Por fim, dê uma proposta de ação que o FEA.dev podería tomar para mitigar os problemas de programação na FEA e disseminar ainda mais o conhecimento sobre esse tema!\n",
    "\n",
    "**OBS:** As propostas e análises críticas mais bem avaliadas serão aquelas que usarem os dados fornecidos como fundamento, desde que você tenha mostrado esse dado anteriormente. Você também pode usar seu conhecimento de mundo para complementar sua linha de raciocínio."
   ]
  },
  {
   "cell_type": "markdown",
   "metadata": {},
   "source": [
    "<font color=pink|black|black>*#####SUA RESPOSTA COMECA AQUI#####*</font>"
   ]
  },
  {
   "cell_type": "raw",
   "metadata": {},
   "source": [
    "    O conjunto de gráficos e DataFrames criados pelos processos acima mostram uma ampla visão do ambiente atual da FEA e como esse ambiente se relaciona com a programação de forma geral. Dessa forma, é possível extrair algumas análises que exaltam tanto o interesse dos discentes em aprimorar o conhencimento em tal área quanto a discrepância de gênero observada na FEA e no entusiasmo em programação.\n",
    "    Iniciando com os dados que apoiam o interesse dos alunos, pelo Gráfico 8 nota-se que a grande maioria dos respondentes possuem interesse na programação, tanto do sexo feminino quanto do masculino. Além disso, o Gráfico 6 demonstra que, o público que respondeu, os quais segundo o Gráfico 8 possuem interesse, está concentrado nos dois primeiros anos de graduação da faculdade, pondendo direcionar esse resultado à vontade de explorar diferentes áreas para finalmente decidir sua trajetória profissional, ou pela maior relevância da programação na atualidade, em que muitos já consideram uma habilidade essencial para qualquer profissional na área de negócios. Ademais, pelo Gráfico 7 retrata-se que grande parte dos respondentes possuem uma das particularidades que mais demonstram a disposição em aprender programação, a curiosidade, em que no melhor caso, no curso de Contabilidade, cerca de 70% dos alunos possuem curiosidade em programar. Em relação a essa curiosidade, pelos Gráficos 9 e 10, percebe-se que as principais áreas da programação e linguagens utilizadas ou almejadas a aprender estão totalmente ligadas a ferramentas para facilitar os profissionais relacionados à negócios, como por exemplo as linguagens Python, R, Excel, VBA e as áreas de Banco de Dados, Machine Learning e Data Science.\n",
    "    Por outro lado, focando na questão da disparidade de gênero, o Gráfico 8 apresenta que o sexo masculino possui mais que o dobro de indivíduos interessados em programação do que o sexo feminino. Tal análise é influenciada tanto pelo ambiente da FEA que possui uma proporção maior de homens do que mulheres, quanto pela cultura de que mulheres não são capacitadas para lidar com tarefas que apresentam cálculos e programação. Ao observar o Gráfico 5, é notável a grande disparidade de gênero em relação a cada curso presente na FEA USP, em que os cursos com cálculos matemáticos mais avançados como Contabilidade, Atuária e Economia, apresentam uma maior discrepância do que cursos com cálculos menos avançados como Administração.\n",
    "    Portanto, pela análise desenvolvida até agora, concluí-se que para mitigar a disparidade dos discentes da FEA em relação ao conhecimento e interesse de programação é necessário que o FEA.dev promova ações que gerem impacto, como por exemplo por meio de palestras comandadas por grandes mulheres que utilizam a programação em seu ambiente de trabalho e que esteja disposta a buscar atrair mais as mulheres para esse ramo de estudo. Em relação a disseminação de conhecimento no ambiente universitário da FEA USP, o próprio Gráfico 11 já diz muito do que deve ser feito, ou seja, a criação de aulas presenciais (semelhantes as aulas fornecidas pela Liga do Mercado Financeiro), materiais e exercícios práticos são importantes para o aprendizado, porém, além disso, é necessário que o FEA.dev busque atrair os alunos para tais aulas, sendo por meio de publicações apresentando dados de quão importante é conhecer programação em uma era digital ou por premiações pela conclusão das aulas fornecidas, como por exemplo fornecendo um certificado (se possível).\n"
   ]
  },
  {
   "cell_type": "markdown",
   "metadata": {},
   "source": [
    "# <font color=blue|blue|red>Referências: </font>\n",
    "\n",
    "Insira suas fontes no markdown abaixo:"
   ]
  },
  {
   "cell_type": "markdown",
   "metadata": {},
   "source": [
    "Pandas:\n",
    "https://pandas.pydata.org/docs/\n",
    "https://minerandodados.com.br/#:~:text=O%20pandas%20possui%20fun%C3%A7%C3%B5es%20interessantes,faltantes%20em%20bases%20de%20dados.&text=O%20pandas%20te%20d%C3%A1%20algumas,tem%20colunas%20com%20valores%20faltantes.\n",
    "Dados Faltantes:\n",
    "https://minerandodados.com.br/cafe-com-codigo-tratando-valores-faltantes-pandas-python/#:~:text=O%20primeiro%20passo%20é%20checar,usaremos%20o%20método%20isnull().&text=Com%20a%20base%20de%20dados,verificar%20se%20existem%20valores%20faltantes.&text=O%20método%20isnull()%20retorna,do%20tipo%20NaN%20ou%20Nulo.\n",
    "Numpy:\n",
    "https://medium.com/ensina-ai/entendendo-a-biblioteca-numpy-4858fde63355\n",
    "Remover linhas e colunas:\n",
    "https://www.alura.com.br/artigos/como-remover-linhas-e-colunas-no-pandas\n",
    "Iteração nas linhas de um DataFrame:\n",
    "https://medium.com/capivarapython/itera%C3%A7%C3%A3o-em-pandas-dataframes-e-desempenho-72d2d12522e1\n",
    "Filtrar linhas contendo um padrão de string:\n",
    "https://www.it-swarm.dev/pt/python/como-filtrar-linhas-contendo-um-padrao-de-string-de-um-dataframe-do-pandas/1051626641/\n",
    "Mudar o ângulo do texto no eixo x:\n",
    "https://www.delftstack.com/pt/howto/matplotlib/how-to-rotate-x-axis-tick-label-text-in-matplotlib/\n",
    "Mudar valores em um DataFrame:\n",
    "https://www.it-swarm.dev/pt/python/substituindo-alguns-valores-em-uma-coluna-do-dataframe-do-pandas-por-outro-valor/1050712746/\n",
    "Adicionar linhas ao pandas DataFrame:\n",
    "https://www.it-swarm.dev/pt/python/adicione-uma-linha-ao-pandas-dataframe/1066944305/\n",
    "Função apply():\n",
    "https://pandas.pydata.org/pandas-docs/stable/reference/api/pandas.DataFrame.apply.html\n",
    "Remover espaços em branco:\n",
    "https://www.it-swarm.dev/pt/python/como-faco-para-remover-espacos-em-branco-no-python/957597247/\n",
    "Métodos de um dicionário:\n",
    "http://excript.com/python/funcoes-dicionarios.html\n",
    "Manipulando strings:\n",
    "https://wiki.python.org.br/ManipulandoStringsComPython\n",
    "Matplotlib e dicionários:\n",
    "https://www.it-swarm.dev/pt/python/plotar-uma-barra-usando-o-matplotlib-usando-um-dicionario/1072233593/\n",
    "Mudar o nome de uma key no dicionário:\n",
    "https://pt.stackoverflow.com/questions/379874/como-mudar-o-valor-da-chave-em-um-dicion%C3%A1rio-em-python\n"
   ]
  }
 ],
 "metadata": {
  "kernelspec": {
   "display_name": "Python 3",
   "language": "python",
   "name": "python3"
  },
  "language_info": {
   "codemirror_mode": {
    "name": "ipython",
    "version": 3
   },
   "file_extension": ".py",
   "mimetype": "text/x-python",
   "name": "python",
   "nbconvert_exporter": "python",
   "pygments_lexer": "ipython3",
   "version": "3.6.5"
  }
 },
 "nbformat": 4,
 "nbformat_minor": 4
}
